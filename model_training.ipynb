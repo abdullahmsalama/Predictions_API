{
 "cells": [
  {
   "cell_type": "markdown",
   "metadata": {},
   "source": [
    "# Predictions API, the model training part"
   ]
  },
  {
   "cell_type": "markdown",
   "metadata": {},
   "source": [
    "## Loading dataset and taking a look on how the data looks like**"
   ]
  },
  {
   "cell_type": "code",
   "execution_count": 1,
   "metadata": {},
   "outputs": [
    {
     "name": "stdout",
     "output_type": "stream",
     "text": [
      "          id  recency_7  frequency_7  monetary_value_7  frequency_30  \\\n",
      "0          1          1            1               8.5             1   \n",
      "1          2          1            1              16.3             1   \n",
      "2          3          1            1               5.6             1   \n",
      "3          4          1            1              32.0             1   \n",
      "4          5          1            1              63.6             1   \n",
      "...      ...        ...          ...               ...           ...   \n",
      "72753  72754          4            2              32.7             2   \n",
      "72754  72755          1            2              58.6             2   \n",
      "72755  72756          2            6              89.9             6   \n",
      "72756  72757          1            1              25.5             1   \n",
      "72757  72758          1            1              18.8             1   \n",
      "\n",
      "       monetary_value_30  \n",
      "0                    8.5  \n",
      "1                   16.3  \n",
      "2                    5.6  \n",
      "3                   32.0  \n",
      "4                   63.6  \n",
      "...                  ...  \n",
      "72753               32.7  \n",
      "72754               58.6  \n",
      "72755               89.9  \n",
      "72756               25.5  \n",
      "72757               18.8  \n",
      "\n",
      "[72758 rows x 6 columns]\n"
     ]
    }
   ],
   "source": [
    "import numpy as np\n",
    "import pandas as pd\n",
    "import matplotlib.pyplot as plt\n",
    "import seaborn as sn\n",
    "from sklearn import model_selection\n",
    "import pickle\n",
    "import sqlite3\n",
    "import pandas as pd\n",
    "database = \"database.sqlite\"\n",
    "\n",
    "conn = sqlite3.connect(database)\n",
    "\n",
    "data = pd.read_sql(\"select * from passenger_activity_after_registration\", con=conn)\n",
    "print(data)\n",
    "conn.close()"
   ]
  },
  {
   "cell_type": "markdown",
   "metadata": {},
   "source": [
    "### Since the data is not huge, I will proceed with Pandas in model training and not use Spark for ex."
   ]
  },
  {
   "cell_type": "code",
   "execution_count": 2,
   "metadata": {},
   "outputs": [
    {
     "name": "stdout",
     "output_type": "stream",
     "text": [
      "(72758, 6)\n"
     ]
    }
   ],
   "source": [
    "print(data.shape)"
   ]
  },
  {
   "cell_type": "code",
   "execution_count": 3,
   "metadata": {},
   "outputs": [
    {
     "data": {
      "text/html": [
       "<div>\n",
       "<style scoped>\n",
       "    .dataframe tbody tr th:only-of-type {\n",
       "        vertical-align: middle;\n",
       "    }\n",
       "\n",
       "    .dataframe tbody tr th {\n",
       "        vertical-align: top;\n",
       "    }\n",
       "\n",
       "    .dataframe thead th {\n",
       "        text-align: right;\n",
       "    }\n",
       "</style>\n",
       "<table border=\"1\" class=\"dataframe\">\n",
       "  <thead>\n",
       "    <tr style=\"text-align: right;\">\n",
       "      <th></th>\n",
       "      <th>id</th>\n",
       "      <th>recency_7</th>\n",
       "      <th>frequency_7</th>\n",
       "      <th>monetary_value_7</th>\n",
       "      <th>frequency_30</th>\n",
       "      <th>monetary_value_30</th>\n",
       "    </tr>\n",
       "  </thead>\n",
       "  <tbody>\n",
       "    <tr>\n",
       "      <th>0</th>\n",
       "      <td>1</td>\n",
       "      <td>1</td>\n",
       "      <td>1</td>\n",
       "      <td>8.5</td>\n",
       "      <td>1</td>\n",
       "      <td>8.5</td>\n",
       "    </tr>\n",
       "    <tr>\n",
       "      <th>1</th>\n",
       "      <td>2</td>\n",
       "      <td>1</td>\n",
       "      <td>1</td>\n",
       "      <td>16.3</td>\n",
       "      <td>1</td>\n",
       "      <td>16.3</td>\n",
       "    </tr>\n",
       "    <tr>\n",
       "      <th>2</th>\n",
       "      <td>3</td>\n",
       "      <td>1</td>\n",
       "      <td>1</td>\n",
       "      <td>5.6</td>\n",
       "      <td>1</td>\n",
       "      <td>5.6</td>\n",
       "    </tr>\n",
       "    <tr>\n",
       "      <th>3</th>\n",
       "      <td>4</td>\n",
       "      <td>1</td>\n",
       "      <td>1</td>\n",
       "      <td>32.0</td>\n",
       "      <td>1</td>\n",
       "      <td>32.0</td>\n",
       "    </tr>\n",
       "    <tr>\n",
       "      <th>4</th>\n",
       "      <td>5</td>\n",
       "      <td>1</td>\n",
       "      <td>1</td>\n",
       "      <td>63.6</td>\n",
       "      <td>1</td>\n",
       "      <td>63.6</td>\n",
       "    </tr>\n",
       "  </tbody>\n",
       "</table>\n",
       "</div>"
      ],
      "text/plain": [
       "   id  recency_7  frequency_7  monetary_value_7  frequency_30  \\\n",
       "0   1          1            1               8.5             1   \n",
       "1   2          1            1              16.3             1   \n",
       "2   3          1            1               5.6             1   \n",
       "3   4          1            1              32.0             1   \n",
       "4   5          1            1              63.6             1   \n",
       "\n",
       "   monetary_value_30  \n",
       "0                8.5  \n",
       "1               16.3  \n",
       "2                5.6  \n",
       "3               32.0  \n",
       "4               63.6  "
      ]
     },
     "execution_count": 3,
     "metadata": {},
     "output_type": "execute_result"
    }
   ],
   "source": [
    "data.head()"
   ]
  },
  {
   "cell_type": "markdown",
   "metadata": {},
   "source": [
    "### Removing passenger_id as it will not be of any use in modelling the data, also will remove frequency_30 because it is future knowledge that shouldn't be available before prediction and it is related to 'monetary_value_30' which we will want to predict"
   ]
  },
  {
   "cell_type": "code",
   "execution_count": 4,
   "metadata": {},
   "outputs": [],
   "source": [
    "data = data.drop(['id', 'frequency_30'], axis=1)"
   ]
  },
  {
   "cell_type": "code",
   "execution_count": 5,
   "metadata": {},
   "outputs": [
    {
     "data": {
      "text/plain": [
       "recency_7              int64\n",
       "frequency_7            int64\n",
       "monetary_value_7     float64\n",
       "monetary_value_30    float64\n",
       "dtype: object"
      ]
     },
     "execution_count": 5,
     "metadata": {},
     "output_type": "execute_result"
    }
   ],
   "source": [
    "data.dtypes"
   ]
  },
  {
   "cell_type": "code",
   "execution_count": 6,
   "metadata": {},
   "outputs": [
    {
     "data": {
      "text/plain": [
       "1    45525\n",
       "2    11409\n",
       "3     4719\n",
       "4     3168\n",
       "7     2958\n",
       "5     2566\n",
       "6     2413\n",
       "Name: recency_7, dtype: int64"
      ]
     },
     "execution_count": 6,
     "metadata": {},
     "output_type": "execute_result"
    }
   ],
   "source": [
    "data['recency_7'].value_counts()"
   ]
  },
  {
   "cell_type": "markdown",
   "metadata": {},
   "source": [
    "### We know already from the feature description that recency_7 is a categorical feature, so let's go ahead and convert it"
   ]
  },
  {
   "cell_type": "code",
   "execution_count": 7,
   "metadata": {},
   "outputs": [],
   "source": [
    "try:\n",
    "    data['recency_7'] = data.recency_7.astype('category')\n",
    "except Exception as err:\n",
    "    print(err)\n"
   ]
  },
  {
   "cell_type": "markdown",
   "metadata": {},
   "source": [
    "### Check that recency_7 has been converted"
   ]
  },
  {
   "cell_type": "markdown",
   "metadata": {},
   "source": [
    "## Let us check now for missing data"
   ]
  },
  {
   "cell_type": "code",
   "execution_count": 8,
   "metadata": {},
   "outputs": [
    {
     "data": {
      "text/plain": [
       "recency_7            False\n",
       "frequency_7          False\n",
       "monetary_value_7     False\n",
       "monetary_value_30    False\n",
       "dtype: bool"
      ]
     },
     "execution_count": 8,
     "metadata": {},
     "output_type": "execute_result"
    }
   ],
   "source": [
    "data.isnull().any()"
   ]
  },
  {
   "cell_type": "markdown",
   "metadata": {},
   "source": [
    "### No missing values, great!"
   ]
  },
  {
   "cell_type": "markdown",
   "metadata": {},
   "source": [
    "### Now we check each column has wrong enteries. As we know, all columns shouldn't have negative values, as they are frequency or money"
   ]
  },
  {
   "cell_type": "markdown",
   "metadata": {},
   "source": [
    "1- recency_7"
   ]
  },
  {
   "cell_type": "markdown",
   "metadata": {},
   "source": [
    "### already checked when converting to categorical"
   ]
  },
  {
   "cell_type": "markdown",
   "metadata": {},
   "source": [
    "2- frequency_7"
   ]
  },
  {
   "cell_type": "code",
   "execution_count": 9,
   "metadata": {},
   "outputs": [
    {
     "data": {
      "text/plain": [
       "0"
      ]
     },
     "execution_count": 9,
     "metadata": {},
     "output_type": "execute_result"
    }
   ],
   "source": [
    "sum(data.frequency_7<0)"
   ]
  },
  {
   "cell_type": "markdown",
   "metadata": {},
   "source": [
    "3 - monetary_value_7\n"
   ]
  },
  {
   "cell_type": "code",
   "execution_count": 10,
   "metadata": {},
   "outputs": [
    {
     "data": {
      "text/plain": [
       "0"
      ]
     },
     "execution_count": 10,
     "metadata": {},
     "output_type": "execute_result"
    }
   ],
   "source": [
    "sum(data.monetary_value_7<0)"
   ]
  },
  {
   "cell_type": "markdown",
   "metadata": {},
   "source": [
    "4- monetary_value_30\n"
   ]
  },
  {
   "cell_type": "code",
   "execution_count": 11,
   "metadata": {},
   "outputs": [
    {
     "data": {
      "text/plain": [
       "0"
      ]
     },
     "execution_count": 11,
     "metadata": {},
     "output_type": "execute_result"
    }
   ],
   "source": [
    "sum(data.monetary_value_30<0)"
   ]
  },
  {
   "cell_type": "markdown",
   "metadata": {},
   "source": [
    "### So all columns are already clean with no missing and no wrong enteries that we can detect"
   ]
  },
  {
   "cell_type": "markdown",
   "metadata": {},
   "source": [
    "## Now to calculate correlation between features to analyze and select suitable features. \n",
    "### Since we have categorical and numerical features, I used pearson correlation in case we are correlation two numerical features, and used cramers for correlating two categorical features (not my code - not used here) and finally eta for correlating numerical features with categorical"
   ]
  },
  {
   "cell_type": "code",
   "execution_count": 12,
   "metadata": {},
   "outputs": [],
   "source": [
    "import pandas as pd\n",
    "import numpy as np\n",
    "import scipy.stats as ss\n",
    "import seaborn as sns\n",
    "\n",
    "def cramers_v(confusion_matrix):\n",
    "    \"\"\" calculate Cramers V statistic for categorial-categorial association.\n",
    "        uses correction from Bergsma and Wicher,\n",
    "        Journal of the Korean Statistical Society 42 (2013): 323-328\n",
    "    \"\"\"\n",
    "    chi2 = ss.chi2_contingency(confusion_matrix)[0]\n",
    "    n = confusion_matrix.sum()\n",
    "    phi2 = chi2 / n\n",
    "    r, k = confusion_matrix.shape\n",
    "    phi2corr = max(0, phi2 - ((k-1)*(r-1))/(n-1))\n",
    "    rcorr = r - ((r-1)**2)/(n-1)\n",
    "    kcorr = k - ((k-1)**2)/(n-1)\n",
    "    return np.sqrt(phi2corr / min((kcorr-1), (rcorr-1)))\n",
    "\n",
    "def eta__correlation_ratio(categories, measurements):\n",
    "    fcat, _ = pd.factorize(categories)\n",
    "    cat_num = np.max(fcat)+1\n",
    "    y_avg_array = np.zeros(cat_num)\n",
    "    n_array = np.zeros(cat_num)\n",
    "    for i in range(0,cat_num):\n",
    "        cat_measures = measurements.iloc[np.argwhere(fcat == i).flatten()].values\n",
    "        n_array[i] = len(cat_measures)\n",
    "        y_avg_array[i] = np.average(cat_measures)\n",
    "    y_total_avg = np.sum(np.multiply(y_avg_array,n_array))/np.sum(n_array)\n",
    "    numerator = np.sum(np.multiply(n_array,np.power(np.subtract(y_avg_array,y_total_avg),2)))\n",
    "    denominator = np.sum(np.power(np.subtract(measurements,y_total_avg),2))\n",
    "    if numerator == 0:\n",
    "        eta = 0.0\n",
    "    else:\n",
    "        eta = np.sqrt(numerator/denominator)\n",
    "    return eta\n",
    "\n",
    "corr_matrix = pd.DataFrame(np.nan, index=data.columns, columns=data.columns)\n",
    "for row in corr_matrix.index:\n",
    "    for col in corr_matrix.columns:\n",
    "        if \"category\" in data.dtypes[row].name and \"category\" in data.dtypes[col].name:\n",
    "            #cramers_v category correlation\n",
    "            confusion_matrix = pd.crosstab(data[row], data[col]).values\n",
    "            corr_matrix[col][row] = cramers_v(confusion_matrix)\n",
    "        elif \"category\" in data.dtypes[row].name:\n",
    "            #eta category-numerical correlation\n",
    "            corr_matrix[col][row] = eta__correlation_ratio(data[row].tolist(), data[col])\n",
    "        elif \"category\" in data.dtypes[col].name:\n",
    "            #eta category-numerical correlation\n",
    "            corr_matrix[col][row] = eta__correlation_ratio(data[col].tolist(), data[row])\n",
    "        else:\n",
    "            #pearson correlation for numerical-numerical coorelation\n",
    "            corr_matrix[col][row] = data[row].corr(data[col])"
   ]
  },
  {
   "cell_type": "markdown",
   "metadata": {},
   "source": [
    "### Visualizing the correaltion matrix using a heatmap"
   ]
  },
  {
   "cell_type": "code",
   "execution_count": 13,
   "metadata": {},
   "outputs": [
    {
     "data": {
      "image/png": "[encoded data removed]",
      "text/plain": [
       "<Figure size 720x360 with 2 Axes>"
      ]
     },
     "metadata": {
      "needs_background": "light"
     },
     "output_type": "display_data"
    }
   ],
   "source": [
    "plt.figure(figsize=(10,5))\n",
    "sn.heatmap(corr_matrix, annot=True)\n",
    "b, t = plt.ylim()\n",
    "b += 0.5\n",
    "t -= 0.5\n",
    "plt.ylim(b, t)\n",
    "plt.show()"
   ]
  },
  {
   "cell_type": "markdown",
   "metadata": {},
   "source": [
    "### As expected, monetary_value_7 is highly correlated to monetary_value_30, because intuitevly most of the customers having high usages in 7 days would have high usages in 30 days"
   ]
  },
  {
   "cell_type": "markdown",
   "metadata": {},
   "source": [
    "## A fast outlier analysis"
   ]
  },
  {
   "cell_type": "code",
   "execution_count": 14,
   "metadata": {},
   "outputs": [
    {
     "data": {
      "text/plain": [
       "[Text(0.5, 1.0, 'Boxplot for monetary_value_30')]"
      ]
     },
     "execution_count": 14,
     "metadata": {},
     "output_type": "execute_result"
    },
    {
     "data": {
      "image/png": "[encoded data removed]",
      "text/plain": [
       "<Figure size 1080x720 with 3 Axes>"
      ]
     },
     "metadata": {
      "needs_background": "light"
     },
     "output_type": "display_data"
    }
   ],
   "source": [
    "fig, axs = plt.subplots(nrows=1, ncols=3, figsize=(15,10))\n",
    "\n",
    "sn.boxplot(data=data[['frequency_7']], ax=axs[0])\n",
    "axs[0].set(title=\"Boxplot for frequency_7\")\n",
    "\n",
    "sn.boxplot(data=data[['monetary_value_7']], ax=axs[1])\n",
    "axs[1].set(title=\"Boxplot for monetary_value_7\")\n",
    "\n",
    "sn.boxplot(data=data[['monetary_value_30']], ax=axs[2])\n",
    "axs[2].set(title=\"Boxplot for monetary_value_30\")"
   ]
  },
  {
   "cell_type": "markdown",
   "metadata": {},
   "source": [
    "### The maximum value in frequency_7 looks like an extreme outlier, however the overall picture of all columns looks fine"
   ]
  },
  {
   "cell_type": "markdown",
   "metadata": {},
   "source": [
    "### Checking the extreme outlier"
   ]
  },
  {
   "cell_type": "code",
   "execution_count": 15,
   "metadata": {},
   "outputs": [
    {
     "data": {
      "text/html": [
       "<div>\n",
       "<style scoped>\n",
       "    .dataframe tbody tr th:only-of-type {\n",
       "        vertical-align: middle;\n",
       "    }\n",
       "\n",
       "    .dataframe tbody tr th {\n",
       "        vertical-align: top;\n",
       "    }\n",
       "\n",
       "    .dataframe thead th {\n",
       "        text-align: right;\n",
       "    }\n",
       "</style>\n",
       "<table border=\"1\" class=\"dataframe\">\n",
       "  <thead>\n",
       "    <tr style=\"text-align: right;\">\n",
       "      <th></th>\n",
       "      <th>recency_7</th>\n",
       "      <th>frequency_7</th>\n",
       "      <th>monetary_value_7</th>\n",
       "      <th>monetary_value_30</th>\n",
       "    </tr>\n",
       "  </thead>\n",
       "  <tbody>\n",
       "    <tr>\n",
       "      <th>22445</th>\n",
       "      <td>7</td>\n",
       "      <td>56</td>\n",
       "      <td>870.2</td>\n",
       "      <td>869.2</td>\n",
       "    </tr>\n",
       "  </tbody>\n",
       "</table>\n",
       "</div>"
      ],
      "text/plain": [
       "      recency_7  frequency_7  monetary_value_7  monetary_value_30\n",
       "22445         7           56             870.2              869.2"
      ]
     },
     "execution_count": 15,
     "metadata": {},
     "output_type": "execute_result"
    }
   ],
   "source": [
    "data[data['frequency_7']>50]"
   ]
  },
  {
   "cell_type": "markdown",
   "metadata": {},
   "source": [
    "### Looks like a valid point, will not remove"
   ]
  },
  {
   "cell_type": "markdown",
   "metadata": {},
   "source": [
    "### Before model fit, we have to convert the categorical features into one-hot encoding representation.**"
   ]
  },
  {
   "cell_type": "code",
   "execution_count": 16,
   "metadata": {},
   "outputs": [
    {
     "data": {
      "text/html": [
       "<div>\n",
       "<style scoped>\n",
       "    .dataframe tbody tr th:only-of-type {\n",
       "        vertical-align: middle;\n",
       "    }\n",
       "\n",
       "    .dataframe tbody tr th {\n",
       "        vertical-align: top;\n",
       "    }\n",
       "\n",
       "    .dataframe thead th {\n",
       "        text-align: right;\n",
       "    }\n",
       "</style>\n",
       "<table border=\"1\" class=\"dataframe\">\n",
       "  <thead>\n",
       "    <tr style=\"text-align: right;\">\n",
       "      <th></th>\n",
       "      <th>frequency_7</th>\n",
       "      <th>monetary_value_7</th>\n",
       "      <th>monetary_value_30</th>\n",
       "      <th>recency_7_1</th>\n",
       "      <th>recency_7_2</th>\n",
       "      <th>recency_7_3</th>\n",
       "      <th>recency_7_4</th>\n",
       "      <th>recency_7_5</th>\n",
       "      <th>recency_7_6</th>\n",
       "      <th>recency_7_7</th>\n",
       "    </tr>\n",
       "  </thead>\n",
       "  <tbody>\n",
       "    <tr>\n",
       "      <th>72753</th>\n",
       "      <td>2</td>\n",
       "      <td>32.7</td>\n",
       "      <td>32.7</td>\n",
       "      <td>0</td>\n",
       "      <td>0</td>\n",
       "      <td>0</td>\n",
       "      <td>1</td>\n",
       "      <td>0</td>\n",
       "      <td>0</td>\n",
       "      <td>0</td>\n",
       "    </tr>\n",
       "    <tr>\n",
       "      <th>72754</th>\n",
       "      <td>2</td>\n",
       "      <td>58.6</td>\n",
       "      <td>58.6</td>\n",
       "      <td>1</td>\n",
       "      <td>0</td>\n",
       "      <td>0</td>\n",
       "      <td>0</td>\n",
       "      <td>0</td>\n",
       "      <td>0</td>\n",
       "      <td>0</td>\n",
       "    </tr>\n",
       "    <tr>\n",
       "      <th>72755</th>\n",
       "      <td>6</td>\n",
       "      <td>89.9</td>\n",
       "      <td>89.9</td>\n",
       "      <td>0</td>\n",
       "      <td>1</td>\n",
       "      <td>0</td>\n",
       "      <td>0</td>\n",
       "      <td>0</td>\n",
       "      <td>0</td>\n",
       "      <td>0</td>\n",
       "    </tr>\n",
       "    <tr>\n",
       "      <th>72756</th>\n",
       "      <td>1</td>\n",
       "      <td>25.5</td>\n",
       "      <td>25.5</td>\n",
       "      <td>1</td>\n",
       "      <td>0</td>\n",
       "      <td>0</td>\n",
       "      <td>0</td>\n",
       "      <td>0</td>\n",
       "      <td>0</td>\n",
       "      <td>0</td>\n",
       "    </tr>\n",
       "    <tr>\n",
       "      <th>72757</th>\n",
       "      <td>1</td>\n",
       "      <td>18.8</td>\n",
       "      <td>18.8</td>\n",
       "      <td>1</td>\n",
       "      <td>0</td>\n",
       "      <td>0</td>\n",
       "      <td>0</td>\n",
       "      <td>0</td>\n",
       "      <td>0</td>\n",
       "      <td>0</td>\n",
       "    </tr>\n",
       "  </tbody>\n",
       "</table>\n",
       "</div>"
      ],
      "text/plain": [
       "       frequency_7  monetary_value_7  monetary_value_30  recency_7_1  \\\n",
       "72753            2              32.7               32.7            0   \n",
       "72754            2              58.6               58.6            1   \n",
       "72755            6              89.9               89.9            0   \n",
       "72756            1              25.5               25.5            1   \n",
       "72757            1              18.8               18.8            1   \n",
       "\n",
       "       recency_7_2  recency_7_3  recency_7_4  recency_7_5  recency_7_6  \\\n",
       "72753            0            0            1            0            0   \n",
       "72754            0            0            0            0            0   \n",
       "72755            1            0            0            0            0   \n",
       "72756            0            0            0            0            0   \n",
       "72757            0            0            0            0            0   \n",
       "\n",
       "       recency_7_7  \n",
       "72753            0  \n",
       "72754            0  \n",
       "72755            0  \n",
       "72756            0  \n",
       "72757            0  "
      ]
     },
     "metadata": {},
     "output_type": "display_data"
    }
   ],
   "source": [
    "def convert_hot_encoder(df):\n",
    "    columns_to_encode = []\n",
    "    def to_hot_encoder(df, column_to_remove):       \n",
    "        df = pd.concat([df, pd.get_dummies(df[column_to_remove], prefix=column_to_remove, drop_first=False)],axis=1)\n",
    "        df = df.drop([column_to_remove], axis=1)\n",
    "        return df\n",
    "\n",
    "    for col in df.columns:\n",
    "        if \"category\" in df.dtypes[col].name:\n",
    "            columns_to_encode.append(col)\n",
    "            \n",
    "    for column in columns_to_encode:\n",
    "        df = to_hot_encoder(df, column)\n",
    "    return df\n",
    "\n",
    "data_one_hot = convert_hot_encoder(data)\n",
    "\n",
    "\n",
    "display(data_one_hot.tail())"
   ]
  },
  {
   "cell_type": "markdown",
   "metadata": {},
   "source": [
    "### Split to training, val and test"
   ]
  },
  {
   "cell_type": "code",
   "execution_count": 17,
   "metadata": {},
   "outputs": [],
   "source": [
    "from sklearn.model_selection import train_test_split\n",
    "\n",
    "data_train_one_hot, data_test_one_hot =\\\n",
    "train_test_split(data_one_hot, test_size=0.2)\n",
    "data_train_one_hot, data_val_one_hot =\\\n",
    "train_test_split(data_train_one_hot, test_size=0.25)"
   ]
  },
  {
   "cell_type": "markdown",
   "metadata": {},
   "source": [
    "### Split to features and target"
   ]
  },
  {
   "cell_type": "code",
   "execution_count": 18,
   "metadata": {},
   "outputs": [],
   "source": [
    "y_train = data_train_one_hot[['monetary_value_30']].to_numpy().flatten()\n",
    "x_train = data_train_one_hot.drop(['monetary_value_30'], axis=1).to_numpy()\n",
    "\n",
    "y_val = data_val_one_hot[['monetary_value_30']].to_numpy().flatten()\n",
    "x_val = data_val_one_hot.drop(['monetary_value_30'], axis=1).to_numpy()\n",
    "\n",
    "y_test = data_test_one_hot[['monetary_value_30']].to_numpy().flatten()\n",
    "x_test = data_test_one_hot.drop(['monetary_value_30'], axis=1).to_numpy()"
   ]
  },
  {
   "cell_type": "markdown",
   "metadata": {},
   "source": [
    "### Normalize features using MinMaxScaler from sklearn"
   ]
  },
  {
   "cell_type": "code",
   "execution_count": 30,
   "metadata": {},
   "outputs": [],
   "source": [
    "from sklearn.preprocessing import MinMaxScaler\n",
    "\n",
    "scaler = MinMaxScaler()\n",
    "\n",
    "# fit and transform the data\n",
    "x_train_scaled = scaler.fit_transform(x_train)\n",
    "x_val_scaled = scaler.transform(x_val)\n",
    "x_test_scaled = scaler.transform(x_test)\n",
    "\n",
    "pickle.dump(scaler, open('fitted_scaler.pkl', 'wb'))"
   ]
  },
  {
   "cell_type": "code",
   "execution_count": 34,
   "metadata": {},
   "outputs": [
    {
     "data": {
      "text/plain": [
       "(14552, 9)"
      ]
     },
     "execution_count": 34,
     "metadata": {},
     "output_type": "execute_result"
    }
   ],
   "source": [
    "x_test.shape"
   ]
  },
  {
   "cell_type": "markdown",
   "metadata": {},
   "source": [
    "## Now train a neural network for the regression task (predicting \"monetary_value_30\")"
   ]
  },
  {
   "cell_type": "code",
   "execution_count": 21,
   "metadata": {},
   "outputs": [
    {
     "name": "stdout",
     "output_type": "stream",
     "text": [
      "Input shape: (None, 9). Output shape: (None, 500)\n",
      "Input shape: (None, 500). Output shape: (None, 300)\n",
      "Input shape: (None, 300). Output shape: (None, 200)\n",
      "Input shape: (None, 200). Output shape: (None, 50)\n",
      "Input shape: (None, 50). Output shape: (None, 1)\n",
      "Epoch 1/500\n",
      "44/44 [==============================] - 9s 17ms/step - loss: 5846.5591 - R2_coeff_determination: -0.3141 - val_loss: 3944.3281 - val_R2_coeff_determination: 0.1853\n",
      "Epoch 2/500\n",
      "44/44 [==============================] - 0s 10ms/step - loss: 3624.4720 - R2_coeff_determination: 0.1855 - val_loss: 3626.3594 - val_R2_coeff_determination: 0.2498\n",
      "Epoch 3/500\n",
      "44/44 [==============================] - 0s 9ms/step - loss: 3292.8786 - R2_coeff_determination: 0.2750 - val_loss: 2594.4475 - val_R2_coeff_determination: 0.4516\n",
      "Epoch 4/500\n",
      "44/44 [==============================] - 0s 9ms/step - loss: 2177.6905 - R2_coeff_determination: 0.5138 - val_loss: 1967.1461 - val_R2_coeff_determination: 0.5739\n",
      "Epoch 5/500\n",
      "44/44 [==============================] - 0s 10ms/step - loss: 1859.1448 - R2_coeff_determination: 0.5864 - val_loss: 1942.6946 - val_R2_coeff_determination: 0.5805\n",
      "Epoch 6/500\n",
      "44/44 [==============================] - 0s 9ms/step - loss: 1725.5708 - R2_coeff_determination: 0.5909 - val_loss: 1863.2911 - val_R2_coeff_determination: 0.5968\n",
      "Epoch 7/500\n",
      "44/44 [==============================] - 0s 9ms/step - loss: 1950.8415 - R2_coeff_determination: 0.5945 - val_loss: 1882.6353 - val_R2_coeff_determination: 0.5937\n",
      "Epoch 8/500\n",
      "44/44 [==============================] - 0s 10ms/step - loss: 1828.3752 - R2_coeff_determination: 0.6107 - val_loss: 1848.8849 - val_R2_coeff_determination: 0.6004\n",
      "Epoch 9/500\n",
      "44/44 [==============================] - 0s 10ms/step - loss: 1732.8149 - R2_coeff_determination: 0.6044 - val_loss: 1851.3628 - val_R2_coeff_determination: 0.5997\n",
      "Epoch 10/500\n",
      "44/44 [==============================] - 0s 10ms/step - loss: 1882.4051 - R2_coeff_determination: 0.6082 - val_loss: 1845.6415 - val_R2_coeff_determination: 0.6015\n",
      "Epoch 11/500\n",
      "44/44 [==============================] - 0s 10ms/step - loss: 1682.8428 - R2_coeff_determination: 0.6111 - val_loss: 1860.3676 - val_R2_coeff_determination: 0.5978\n",
      "Epoch 12/500\n",
      "44/44 [==============================] - 0s 10ms/step - loss: 2101.7909 - R2_coeff_determination: 0.5879 - val_loss: 1834.9969 - val_R2_coeff_determination: 0.6040\n",
      "Epoch 13/500\n",
      "44/44 [==============================] - 0s 10ms/step - loss: 1735.3886 - R2_coeff_determination: 0.6196 - val_loss: 1834.9048 - val_R2_coeff_determination: 0.6034\n",
      "Epoch 14/500\n",
      "44/44 [==============================] - 0s 10ms/step - loss: 1893.5569 - R2_coeff_determination: 0.6099 - val_loss: 1845.7643 - val_R2_coeff_determination: 0.6009\n",
      "Epoch 15/500\n",
      "44/44 [==============================] - 0s 10ms/step - loss: 1953.6462 - R2_coeff_determination: 0.5983 - val_loss: 1824.2799 - val_R2_coeff_determination: 0.6061\n",
      "Epoch 16/500\n",
      "44/44 [==============================] - 0s 10ms/step - loss: 1909.2457 - R2_coeff_determination: 0.6199 - val_loss: 1828.7908 - val_R2_coeff_determination: 0.6042\n",
      "Epoch 17/500\n",
      "44/44 [==============================] - 0s 10ms/step - loss: 1807.5374 - R2_coeff_determination: 0.6194 - val_loss: 1801.5011 - val_R2_coeff_determination: 0.6102\n",
      "Epoch 18/500\n",
      "44/44 [==============================] - 0s 10ms/step - loss: 1629.6822 - R2_coeff_determination: 0.6414 - val_loss: 1831.1984 - val_R2_coeff_determination: 0.6025\n",
      "Epoch 19/500\n",
      "44/44 [==============================] - 0s 10ms/step - loss: 1799.0412 - R2_coeff_determination: 0.6145 - val_loss: 1801.0825 - val_R2_coeff_determination: 0.6100\n",
      "Epoch 20/500\n",
      "44/44 [==============================] - 0s 10ms/step - loss: 1768.2895 - R2_coeff_determination: 0.6075 - val_loss: 1809.2815 - val_R2_coeff_determination: 0.6071\n",
      "Epoch 21/500\n",
      "44/44 [==============================] - 0s 9ms/step - loss: 1740.7162 - R2_coeff_determination: 0.6122 - val_loss: 1807.4399 - val_R2_coeff_determination: 0.6070\n",
      "Epoch 22/500\n",
      "44/44 [==============================] - 0s 10ms/step - loss: 1900.2547 - R2_coeff_determination: 0.6109 - val_loss: 1795.4661 - val_R2_coeff_determination: 0.6108\n",
      "Epoch 23/500\n",
      "44/44 [==============================] - 0s 9ms/step - loss: 1793.5875 - R2_coeff_determination: 0.6138 - val_loss: 1795.5630 - val_R2_coeff_determination: 0.6108\n",
      "Epoch 24/500\n",
      "44/44 [==============================] - 0s 9ms/step - loss: 1776.9024 - R2_coeff_determination: 0.6088 - val_loss: 1849.6975 - val_R2_coeff_determination: 0.5999\n",
      "Epoch 25/500\n",
      "44/44 [==============================] - 0s 9ms/step - loss: 1759.4082 - R2_coeff_determination: 0.6314 - val_loss: 1795.6912 - val_R2_coeff_determination: 0.6108\n",
      "Epoch 26/500\n",
      "44/44 [==============================] - 0s 9ms/step - loss: 1899.4201 - R2_coeff_determination: 0.6023 - val_loss: 1830.5577 - val_R2_coeff_determination: 0.6028\n",
      "Epoch 27/500\n",
      "44/44 [==============================] - 0s 9ms/step - loss: 1576.7763 - R2_coeff_determination: 0.6438 - val_loss: 1803.4846 - val_R2_coeff_determination: 0.6077\n",
      "Epoch 28/500\n",
      "44/44 [==============================] - 0s 10ms/step - loss: 1689.3196 - R2_coeff_determination: 0.6282 - val_loss: 1843.7621 - val_R2_coeff_determination: 0.5999\n",
      "Epoch 29/500\n",
      "44/44 [==============================] - 0s 10ms/step - loss: 1761.9855 - R2_coeff_determination: 0.6183 - val_loss: 1814.2086 - val_R2_coeff_determination: 0.6060\n",
      "Epoch 30/500\n",
      "44/44 [==============================] - 0s 10ms/step - loss: 1592.8726 - R2_coeff_determination: 0.6378 - val_loss: 1856.1683 - val_R2_coeff_determination: 0.5976\n",
      "Epoch 31/500\n",
      "44/44 [==============================] - 0s 9ms/step - loss: 1809.8419 - R2_coeff_determination: 0.6126 - val_loss: 1818.2449 - val_R2_coeff_determination: 0.6058\n",
      "Epoch 32/500\n",
      "44/44 [==============================] - 0s 10ms/step - loss: 1784.1813 - R2_coeff_determination: 0.6136 - val_loss: 1789.9816 - val_R2_coeff_determination: 0.6117\n",
      "Epoch 33/500\n",
      "44/44 [==============================] - 0s 10ms/step - loss: 1878.7758 - R2_coeff_determination: 0.6323 - val_loss: 1819.8920 - val_R2_coeff_determination: 0.6058\n",
      "Epoch 34/500\n",
      "44/44 [==============================] - 0s 10ms/step - loss: 1787.2702 - R2_coeff_determination: 0.6276 - val_loss: 1820.8479 - val_R2_coeff_determination: 0.6055\n",
      "Epoch 35/500\n",
      "44/44 [==============================] - 0s 10ms/step - loss: 1591.7075 - R2_coeff_determination: 0.6302 - val_loss: 1810.7312 - val_R2_coeff_determination: 0.6071\n",
      "Epoch 36/500\n",
      "44/44 [==============================] - 0s 9ms/step - loss: 1598.4257 - R2_coeff_determination: 0.6252 - val_loss: 1813.4166 - val_R2_coeff_determination: 0.6064\n",
      "Epoch 37/500\n",
      "44/44 [==============================] - 0s 10ms/step - loss: 1734.2641 - R2_coeff_determination: 0.6314 - val_loss: 1822.4719 - val_R2_coeff_determination: 0.6060\n",
      "Epoch 38/500\n",
      "44/44 [==============================] - 0s 10ms/step - loss: 1656.9594 - R2_coeff_determination: 0.6461 - val_loss: 1787.9452 - val_R2_coeff_determination: 0.6119\n",
      "Epoch 39/500\n",
      "44/44 [==============================] - 0s 9ms/step - loss: 1666.3897 - R2_coeff_determination: 0.5990 - val_loss: 1817.4854 - val_R2_coeff_determination: 0.6047\n",
      "Epoch 40/500\n",
      "44/44 [==============================] - 0s 10ms/step - loss: 1732.5941 - R2_coeff_determination: 0.6357 - val_loss: 1820.3997 - val_R2_coeff_determination: 0.6045\n",
      "Epoch 41/500\n",
      "44/44 [==============================] - 0s 10ms/step - loss: 1925.5483 - R2_coeff_determination: 0.6103 - val_loss: 1818.1198 - val_R2_coeff_determination: 0.6061\n",
      "Epoch 42/500\n",
      "44/44 [==============================] - 0s 10ms/step - loss: 1796.0248 - R2_coeff_determination: 0.5999 - val_loss: 1795.4910 - val_R2_coeff_determination: 0.6102\n",
      "Epoch 43/500\n",
      "44/44 [==============================] - 0s 10ms/step - loss: 1737.6251 - R2_coeff_determination: 0.6213 - val_loss: 1801.2655 - val_R2_coeff_determination: 0.6097\n",
      "Epoch 44/500\n",
      "44/44 [==============================] - 0s 10ms/step - loss: 1735.3841 - R2_coeff_determination: 0.6034 - val_loss: 1846.3596 - val_R2_coeff_determination: 0.6002\n",
      "Epoch 45/500\n",
      "44/44 [==============================] - 0s 10ms/step - loss: 1759.4262 - R2_coeff_determination: 0.6167 - val_loss: 1813.6395 - val_R2_coeff_determination: 0.6055\n"
     ]
    },
    {
     "name": "stdout",
     "output_type": "stream",
     "text": [
      "Epoch 46/500\n",
      "44/44 [==============================] - 0s 9ms/step - loss: 1663.8135 - R2_coeff_determination: 0.6506 - val_loss: 1812.4269 - val_R2_coeff_determination: 0.6068\n",
      "Epoch 47/500\n",
      "44/44 [==============================] - 0s 9ms/step - loss: 1934.4258 - R2_coeff_determination: 0.6119 - val_loss: 1804.1066 - val_R2_coeff_determination: 0.6075\n",
      "Epoch 48/500\n",
      "44/44 [==============================] - 0s 9ms/step - loss: 1753.7369 - R2_coeff_determination: 0.6065 - val_loss: 1815.1967 - val_R2_coeff_determination: 0.6048\n",
      "Epoch 49/500\n",
      "44/44 [==============================] - 0s 10ms/step - loss: 1793.5302 - R2_coeff_determination: 0.6302 - val_loss: 1807.4867 - val_R2_coeff_determination: 0.6090\n",
      "Epoch 50/500\n",
      "44/44 [==============================] - 0s 10ms/step - loss: 1764.0781 - R2_coeff_determination: 0.6172 - val_loss: 1843.7411 - val_R2_coeff_determination: 0.5990\n",
      "Epoch 51/500\n",
      "44/44 [==============================] - 0s 9ms/step - loss: 1692.1070 - R2_coeff_determination: 0.6248 - val_loss: 1807.5510 - val_R2_coeff_determination: 0.6084\n",
      "Epoch 52/500\n",
      "44/44 [==============================] - 0s 10ms/step - loss: 1672.9672 - R2_coeff_determination: 0.6160 - val_loss: 1808.3268 - val_R2_coeff_determination: 0.6085\n",
      "Epoch 53/500\n",
      "44/44 [==============================] - 0s 9ms/step - loss: 1750.7304 - R2_coeff_determination: 0.6263 - val_loss: 1810.9603 - val_R2_coeff_determination: 0.6077\n",
      "Epoch 54/500\n",
      "44/44 [==============================] - 0s 10ms/step - loss: 1751.5793 - R2_coeff_determination: 0.6008 - val_loss: 1810.3672 - val_R2_coeff_determination: 0.6079\n",
      "Epoch 55/500\n",
      "44/44 [==============================] - 0s 10ms/step - loss: 1651.7236 - R2_coeff_determination: 0.6137 - val_loss: 1816.6387 - val_R2_coeff_determination: 0.6049\n",
      "Epoch 56/500\n",
      "44/44 [==============================] - 0s 9ms/step - loss: 1814.6271 - R2_coeff_determination: 0.6270 - val_loss: 1830.0352 - val_R2_coeff_determination: 0.6026\n",
      "Epoch 57/500\n",
      "44/44 [==============================] - 0s 10ms/step - loss: 1806.9505 - R2_coeff_determination: 0.6142 - val_loss: 1831.5376 - val_R2_coeff_determination: 0.6026\n",
      "Epoch 58/500\n",
      "44/44 [==============================] - 0s 10ms/step - loss: 1777.1873 - R2_coeff_determination: 0.6284 - val_loss: 1798.7179 - val_R2_coeff_determination: 0.6101\n",
      "Epoch 59/500\n",
      "44/44 [==============================] - 0s 9ms/step - loss: 1800.1143 - R2_coeff_determination: 0.6260 - val_loss: 1815.5785 - val_R2_coeff_determination: 0.6056\n",
      "Epoch 60/500\n",
      "44/44 [==============================] - 0s 9ms/step - loss: 1774.2337 - R2_coeff_determination: 0.6271 - val_loss: 1802.1207 - val_R2_coeff_determination: 0.6088\n",
      "Epoch 61/500\n",
      "44/44 [==============================] - 0s 9ms/step - loss: 1857.4808 - R2_coeff_determination: 0.6125 - val_loss: 1811.4542 - val_R2_coeff_determination: 0.6081\n",
      "Epoch 62/500\n",
      "44/44 [==============================] - 0s 10ms/step - loss: 1678.7665 - R2_coeff_determination: 0.6046 - val_loss: 1814.5365 - val_R2_coeff_determination: 0.6067\n",
      "Epoch 63/500\n",
      "44/44 [==============================] - 0s 10ms/step - loss: 1951.2849 - R2_coeff_determination: 0.6129 - val_loss: 1837.7479 - val_R2_coeff_determination: 0.5994\n",
      "Epoch 64/500\n",
      "44/44 [==============================] - 0s 10ms/step - loss: 1732.7868 - R2_coeff_determination: 0.6218 - val_loss: 1823.2181 - val_R2_coeff_determination: 0.6038\n",
      "Epoch 65/500\n",
      "44/44 [==============================] - 0s 10ms/step - loss: 1847.0941 - R2_coeff_determination: 0.6320 - val_loss: 1830.8102 - val_R2_coeff_determination: 0.6042\n",
      "Epoch 66/500\n",
      "44/44 [==============================] - 0s 10ms/step - loss: 1616.4941 - R2_coeff_determination: 0.6277 - val_loss: 1818.8408 - val_R2_coeff_determination: 0.6056\n",
      "Epoch 67/500\n",
      "44/44 [==============================] - 0s 10ms/step - loss: 1896.5176 - R2_coeff_determination: 0.6112 - val_loss: 1815.9779 - val_R2_coeff_determination: 0.6066\n",
      "Epoch 68/500\n",
      "44/44 [==============================] - 0s 10ms/step - loss: 1699.6857 - R2_coeff_determination: 0.6408 - val_loss: 1824.5317 - val_R2_coeff_determination: 0.6043\n",
      "Epoch 69/500\n",
      "44/44 [==============================] - 0s 9ms/step - loss: 1743.7560 - R2_coeff_determination: 0.6358 - val_loss: 1807.9247 - val_R2_coeff_determination: 0.6078\n",
      "Epoch 70/500\n",
      "44/44 [==============================] - 0s 10ms/step - loss: 1793.1383 - R2_coeff_determination: 0.6245 - val_loss: 1829.0592 - val_R2_coeff_determination: 0.6013\n",
      "Epoch 71/500\n",
      "44/44 [==============================] - 0s 10ms/step - loss: 1815.4926 - R2_coeff_determination: 0.6173 - val_loss: 1820.7939 - val_R2_coeff_determination: 0.6035\n",
      "Epoch 72/500\n",
      "44/44 [==============================] - 0s 10ms/step - loss: 1804.5830 - R2_coeff_determination: 0.6131 - val_loss: 1808.6212 - val_R2_coeff_determination: 0.6070\n",
      "Epoch 73/500\n",
      "44/44 [==============================] - 0s 10ms/step - loss: 1853.5088 - R2_coeff_determination: 0.5808 - val_loss: 1807.8409 - val_R2_coeff_determination: 0.6078\n",
      "Epoch 74/500\n",
      "44/44 [==============================] - 0s 10ms/step - loss: 1728.9726 - R2_coeff_determination: 0.6239 - val_loss: 1808.7717 - val_R2_coeff_determination: 0.6075\n",
      "Epoch 75/500\n",
      "44/44 [==============================] - 0s 10ms/step - loss: 1671.3856 - R2_coeff_determination: 0.6232 - val_loss: 1826.5112 - val_R2_coeff_determination: 0.6024\n",
      "Epoch 76/500\n",
      "44/44 [==============================] - 0s 10ms/step - loss: 1568.4476 - R2_coeff_determination: 0.6386 - val_loss: 1848.8737 - val_R2_coeff_determination: 0.5966\n",
      "Epoch 77/500\n",
      "44/44 [==============================] - 0s 10ms/step - loss: 1836.8548 - R2_coeff_determination: 0.6196 - val_loss: 1833.8151 - val_R2_coeff_determination: 0.6013\n",
      "Epoch 78/500\n",
      "44/44 [==============================] - 0s 10ms/step - loss: 1662.1581 - R2_coeff_determination: 0.6112 - val_loss: 1812.5188 - val_R2_coeff_determination: 0.6056\n",
      "Epoch 79/500\n",
      "44/44 [==============================] - 0s 9ms/step - loss: 1857.6428 - R2_coeff_determination: 0.6250 - val_loss: 1834.1396 - val_R2_coeff_determination: 0.6027\n",
      "Epoch 80/500\n",
      "44/44 [==============================] - 0s 10ms/step - loss: 1716.6225 - R2_coeff_determination: 0.6245 - val_loss: 1812.5121 - val_R2_coeff_determination: 0.6078\n",
      "Epoch 81/500\n",
      "44/44 [==============================] - 0s 10ms/step - loss: 1653.7292 - R2_coeff_determination: 0.6431 - val_loss: 1805.9210 - val_R2_coeff_determination: 0.6087\n",
      "Epoch 82/500\n",
      "44/44 [==============================] - 0s 10ms/step - loss: 1845.6075 - R2_coeff_determination: 0.5904 - val_loss: 1809.0250 - val_R2_coeff_determination: 0.6074\n",
      "Epoch 83/500\n",
      "44/44 [==============================] - 0s 10ms/step - loss: 1675.1680 - R2_coeff_determination: 0.6238 - val_loss: 1820.0304 - val_R2_coeff_determination: 0.6042\n",
      "Epoch 84/500\n",
      "44/44 [==============================] - ETA: 0s - loss: 1916.0854 - R2_coeff_determination: 0.611 - 0s 10ms/step - loss: 1898.2967 - R2_coeff_determination: 0.6123 - val_loss: 1805.2742 - val_R2_coeff_determination: 0.6088\n",
      "Epoch 85/500\n",
      "44/44 [==============================] - 0s 10ms/step - loss: 1568.9458 - R2_coeff_determination: 0.6415 - val_loss: 1822.6229 - val_R2_coeff_determination: 0.6039\n",
      "Epoch 86/500\n",
      "44/44 [==============================] - 0s 10ms/step - loss: 1759.3965 - R2_coeff_determination: 0.6218 - val_loss: 1839.3027 - val_R2_coeff_determination: 0.5990\n",
      "Epoch 87/500\n",
      "44/44 [==============================] - 0s 11ms/step - loss: 1819.3476 - R2_coeff_determination: 0.6126 - val_loss: 1823.7667 - val_R2_coeff_determination: 0.6034\n",
      "Epoch 88/500\n",
      "44/44 [==============================] - 0s 10ms/step - loss: 1733.0325 - R2_coeff_determination: 0.6006 - val_loss: 1818.8842 - val_R2_coeff_determination: 0.6039\n",
      "Epoch 89/500\n",
      "44/44 [==============================] - 0s 10ms/step - loss: 1687.0334 - R2_coeff_determination: 0.6334 - val_loss: 1819.3103 - val_R2_coeff_determination: 0.6040\n",
      "Epoch 90/500\n",
      "44/44 [==============================] - 0s 10ms/step - loss: 1907.5697 - R2_coeff_determination: 0.6220 - val_loss: 1819.1084 - val_R2_coeff_determination: 0.6052\n",
      "Epoch 91/500\n",
      "44/44 [==============================] - 0s 10ms/step - loss: 1726.7343 - R2_coeff_determination: 0.6350 - val_loss: 1852.4399 - val_R2_coeff_determination: 0.5967\n",
      "Epoch 92/500\n"
     ]
    },
    {
     "name": "stdout",
     "output_type": "stream",
     "text": [
      "44/44 [==============================] - 0s 10ms/step - loss: 1646.0773 - R2_coeff_determination: 0.6301 - val_loss: 1842.0640 - val_R2_coeff_determination: 0.6005\n",
      "Epoch 93/500\n",
      "44/44 [==============================] - 0s 9ms/step - loss: 1842.3235 - R2_coeff_determination: 0.6208 - val_loss: 1867.9542 - val_R2_coeff_determination: 0.5961\n",
      "Epoch 94/500\n",
      "44/44 [==============================] - 0s 9ms/step - loss: 1863.7071 - R2_coeff_determination: 0.6343 - val_loss: 1810.4913 - val_R2_coeff_determination: 0.6078\n",
      "Epoch 95/500\n",
      "44/44 [==============================] - 0s 9ms/step - loss: 1764.3420 - R2_coeff_determination: 0.6321 - val_loss: 1815.2506 - val_R2_coeff_determination: 0.6072\n",
      "Epoch 96/500\n",
      "44/44 [==============================] - 0s 10ms/step - loss: 1775.9494 - R2_coeff_determination: 0.6272 - val_loss: 1827.0839 - val_R2_coeff_determination: 0.6048\n",
      "Epoch 97/500\n",
      "44/44 [==============================] - 0s 10ms/step - loss: 1665.2689 - R2_coeff_determination: 0.6306 - val_loss: 1813.6243 - val_R2_coeff_determination: 0.6065\n",
      "Epoch 98/500\n",
      "44/44 [==============================] - 0s 9ms/step - loss: 1659.9291 - R2_coeff_determination: 0.6137 - val_loss: 1818.7787 - val_R2_coeff_determination: 0.6068\n",
      "Epoch 99/500\n",
      "44/44 [==============================] - 0s 10ms/step - loss: 1679.7723 - R2_coeff_determination: 0.6424 - val_loss: 1820.4658 - val_R2_coeff_determination: 0.6067\n",
      "Epoch 100/500\n",
      "44/44 [==============================] - 0s 10ms/step - loss: 1886.1071 - R2_coeff_determination: 0.6289 - val_loss: 1824.1859 - val_R2_coeff_determination: 0.6055\n",
      "Epoch 101/500\n",
      "44/44 [==============================] - 0s 10ms/step - loss: 1801.6867 - R2_coeff_determination: 0.6269 - val_loss: 1830.3994 - val_R2_coeff_determination: 0.6045\n",
      "Epoch 102/500\n",
      "44/44 [==============================] - 0s 10ms/step - loss: 1826.7885 - R2_coeff_determination: 0.6256 - val_loss: 1809.0188 - val_R2_coeff_determination: 0.6081\n",
      "Epoch 103/500\n",
      "44/44 [==============================] - 0s 10ms/step - loss: 1763.7955 - R2_coeff_determination: 0.6244 - val_loss: 1811.3646 - val_R2_coeff_determination: 0.6064\n",
      "Epoch 104/500\n",
      "44/44 [==============================] - 0s 10ms/step - loss: 1852.3106 - R2_coeff_determination: 0.6070 - val_loss: 1822.5336 - val_R2_coeff_determination: 0.6042\n",
      "Epoch 105/500\n",
      "44/44 [==============================] - 0s 10ms/step - loss: 1731.4033 - R2_coeff_determination: 0.6226 - val_loss: 1811.2919 - val_R2_coeff_determination: 0.6070\n",
      "Epoch 106/500\n",
      "44/44 [==============================] - 0s 10ms/step - loss: 1873.3533 - R2_coeff_determination: 0.6348 - val_loss: 1843.6027 - val_R2_coeff_determination: 0.5991\n",
      "Epoch 107/500\n",
      "44/44 [==============================] - 0s 10ms/step - loss: 1833.5987 - R2_coeff_determination: 0.6232 - val_loss: 1839.2728 - val_R2_coeff_determination: 0.6030\n",
      "Epoch 108/500\n",
      "44/44 [==============================] - 0s 11ms/step - loss: 1542.6361 - R2_coeff_determination: 0.6335 - val_loss: 1804.2589 - val_R2_coeff_determination: 0.6080\n",
      "Epoch 109/500\n",
      "44/44 [==============================] - 0s 10ms/step - loss: 1881.8697 - R2_coeff_determination: 0.5958 - val_loss: 1807.5507 - val_R2_coeff_determination: 0.6082\n",
      "Epoch 110/500\n",
      "44/44 [==============================] - 0s 10ms/step - loss: 1698.3376 - R2_coeff_determination: 0.6275 - val_loss: 1823.3177 - val_R2_coeff_determination: 0.6057\n",
      "Epoch 111/500\n",
      "44/44 [==============================] - 0s 10ms/step - loss: 1643.7872 - R2_coeff_determination: 0.6247 - val_loss: 1821.3097 - val_R2_coeff_determination: 0.6034\n",
      "Epoch 112/500\n",
      "44/44 [==============================] - 0s 10ms/step - loss: 1752.5900 - R2_coeff_determination: 0.6097 - val_loss: 1855.4094 - val_R2_coeff_determination: 0.5949\n",
      "Epoch 113/500\n",
      "44/44 [==============================] - 0s 10ms/step - loss: 1720.6458 - R2_coeff_determination: 0.6328 - val_loss: 1844.6868 - val_R2_coeff_determination: 0.5984\n",
      "Epoch 114/500\n",
      "44/44 [==============================] - 0s 10ms/step - loss: 1783.1333 - R2_coeff_determination: 0.6056 - val_loss: 1826.5784 - val_R2_coeff_determination: 0.6031\n",
      "Epoch 115/500\n",
      "44/44 [==============================] - 0s 10ms/step - loss: 1709.9018 - R2_coeff_determination: 0.6083 - val_loss: 1812.7883 - val_R2_coeff_determination: 0.6062\n",
      "Epoch 116/500\n",
      "44/44 [==============================] - 0s 10ms/step - loss: 1681.8504 - R2_coeff_determination: 0.6286 - val_loss: 1816.4771 - val_R2_coeff_determination: 0.6064\n",
      "Epoch 117/500\n",
      "44/44 [==============================] - 0s 10ms/step - loss: 1707.3187 - R2_coeff_determination: 0.6341 - val_loss: 1827.5585 - val_R2_coeff_determination: 0.6034\n",
      "Epoch 118/500\n",
      "44/44 [==============================] - 0s 10ms/step - loss: 2027.2398 - R2_coeff_determination: 0.5896 - val_loss: 1828.7402 - val_R2_coeff_determination: 0.6048\n",
      "Epoch 119/500\n",
      "44/44 [==============================] - 0s 10ms/step - loss: 1666.0438 - R2_coeff_determination: 0.6156 - val_loss: 1810.6401 - val_R2_coeff_determination: 0.6063\n",
      "Epoch 120/500\n",
      "44/44 [==============================] - 0s 10ms/step - loss: 1588.8380 - R2_coeff_determination: 0.6371 - val_loss: 1808.4545 - val_R2_coeff_determination: 0.6070\n",
      "Epoch 121/500\n",
      "44/44 [==============================] - 0s 10ms/step - loss: 1692.0924 - R2_coeff_determination: 0.6302 - val_loss: 1833.6121 - val_R2_coeff_determination: 0.6035\n",
      "Epoch 122/500\n",
      "44/44 [==============================] - 0s 10ms/step - loss: 1681.2891 - R2_coeff_determination: 0.6251 - val_loss: 1851.1936 - val_R2_coeff_determination: 0.5982\n",
      "Epoch 123/500\n",
      "44/44 [==============================] - 0s 10ms/step - loss: 1847.9572 - R2_coeff_determination: 0.5939 - val_loss: 1828.3702 - val_R2_coeff_determination: 0.6047\n",
      "Epoch 124/500\n",
      "44/44 [==============================] - 0s 10ms/step - loss: 1711.9481 - R2_coeff_determination: 0.6308 - val_loss: 1838.4550 - val_R2_coeff_determination: 0.6011\n",
      "Epoch 125/500\n",
      "44/44 [==============================] - 0s 10ms/step - loss: 1739.2109 - R2_coeff_determination: 0.6474 - val_loss: 1820.8252 - val_R2_coeff_determination: 0.6057\n",
      "Epoch 126/500\n",
      "44/44 [==============================] - 0s 10ms/step - loss: 1688.0383 - R2_coeff_determination: 0.6207 - val_loss: 1828.0607 - val_R2_coeff_determination: 0.6039\n",
      "Epoch 127/500\n",
      "44/44 [==============================] - 0s 10ms/step - loss: 1838.2446 - R2_coeff_determination: 0.6317 - val_loss: 1821.2946 - val_R2_coeff_determination: 0.6065\n",
      "Epoch 128/500\n",
      "44/44 [==============================] - 0s 10ms/step - loss: 1502.8389 - R2_coeff_determination: 0.6280 - val_loss: 1851.8730 - val_R2_coeff_determination: 0.5989\n",
      "Epoch 129/500\n",
      "44/44 [==============================] - 0s 10ms/step - loss: 1583.2311 - R2_coeff_determination: 0.6270 - val_loss: 1876.0558 - val_R2_coeff_determination: 0.5903\n",
      "Epoch 130/500\n",
      "44/44 [==============================] - 0s 10ms/step - loss: 1588.4679 - R2_coeff_determination: 0.6470 - val_loss: 1844.1237 - val_R2_coeff_determination: 0.5977\n",
      "Epoch 131/500\n",
      "44/44 [==============================] - 0s 10ms/step - loss: 1754.5395 - R2_coeff_determination: 0.6257 - val_loss: 1823.9137 - val_R2_coeff_determination: 0.6041\n",
      "Epoch 132/500\n",
      "44/44 [==============================] - 0s 10ms/step - loss: 1774.8322 - R2_coeff_determination: 0.6297 - val_loss: 1841.5667 - val_R2_coeff_determination: 0.6018\n",
      "Epoch 133/500\n",
      "44/44 [==============================] - 0s 10ms/step - loss: 1714.5908 - R2_coeff_determination: 0.6244 - val_loss: 1816.1442 - val_R2_coeff_determination: 0.6068\n",
      "Epoch 134/500\n",
      "44/44 [==============================] - 0s 10ms/step - loss: 1693.5110 - R2_coeff_determination: 0.6502 - val_loss: 1810.9817 - val_R2_coeff_determination: 0.6079\n",
      "Epoch 135/500\n",
      "44/44 [==============================] - 0s 10ms/step - loss: 1728.3766 - R2_coeff_determination: 0.6241 - val_loss: 1828.7247 - val_R2_coeff_determination: 0.6035\n",
      "Epoch 136/500\n",
      "44/44 [==============================] - 0s 10ms/step - loss: 1781.7299 - R2_coeff_determination: 0.6227 - val_loss: 1823.3568 - val_R2_coeff_determination: 0.6046\n",
      "Epoch 137/500\n",
      "44/44 [==============================] - 0s 9ms/step - loss: 1817.8215 - R2_coeff_determination: 0.6122 - val_loss: 1813.6700 - val_R2_coeff_determination: 0.6064\n",
      "Epoch 138/500\n",
      "44/44 [==============================] - 0s 10ms/step - loss: 1621.1232 - R2_coeff_determination: 0.6310 - val_loss: 1821.5952 - val_R2_coeff_determination: 0.6049\n",
      "Epoch 139/500\n",
      "44/44 [==============================] - 0s 9ms/step - loss: 1763.3642 - R2_coeff_determination: 0.6257 - val_loss: 1830.2935 - val_R2_coeff_determination: 0.6017\n",
      "Epoch 140/500\n",
      "44/44 [==============================] - 0s 10ms/step - loss: 1758.6916 - R2_coeff_determination: 0.6201 - val_loss: 1811.0492 - val_R2_coeff_determination: 0.6069\n",
      "Epoch 141/500\n",
      "44/44 [==============================] - 0s 9ms/step - loss: 1677.0774 - R2_coeff_determination: 0.6355 - val_loss: 1815.2823 - val_R2_coeff_determination: 0.6055\n",
      "Epoch 142/500\n",
      "44/44 [==============================] - 0s 9ms/step - loss: 1707.8333 - R2_coeff_determination: 0.6283 - val_loss: 1817.3320 - val_R2_coeff_determination: 0.6063\n",
      "Epoch 143/500\n",
      "44/44 [==============================] - 0s 10ms/step - loss: 1648.2530 - R2_coeff_determination: 0.6277 - val_loss: 1826.7039 - val_R2_coeff_determination: 0.6030\n",
      "Epoch 144/500\n",
      "44/44 [==============================] - 0s 10ms/step - loss: 1744.2054 - R2_coeff_determination: 0.6133 - val_loss: 1845.7944 - val_R2_coeff_determination: 0.6011\n",
      "Epoch 145/500\n",
      "44/44 [==============================] - 0s 10ms/step - loss: 1546.6219 - R2_coeff_determination: 0.6396 - val_loss: 1813.1589 - val_R2_coeff_determination: 0.6063\n",
      "Epoch 146/500\n",
      "44/44 [==============================] - 0s 10ms/step - loss: 1759.1520 - R2_coeff_determination: 0.6127 - val_loss: 1827.4169 - val_R2_coeff_determination: 0.6037\n",
      "Epoch 147/500\n",
      "44/44 [==============================] - 0s 10ms/step - loss: 1601.9744 - R2_coeff_determination: 0.6256 - val_loss: 1854.3461 - val_R2_coeff_determination: 0.5952\n",
      "Epoch 148/500\n",
      "44/44 [==============================] - 0s 10ms/step - loss: 1602.5831 - R2_coeff_determination: 0.6331 - val_loss: 1863.7469 - val_R2_coeff_determination: 0.5944\n",
      "Epoch 149/500\n",
      "44/44 [==============================] - 0s 10ms/step - loss: 1806.4944 - R2_coeff_determination: 0.6104 - val_loss: 1826.3651 - val_R2_coeff_determination: 0.6043\n",
      "Epoch 150/500\n",
      "44/44 [==============================] - 0s 9ms/step - loss: 1799.8017 - R2_coeff_determination: 0.6285 - val_loss: 1838.5034 - val_R2_coeff_determination: 0.6016\n",
      "Epoch 151/500\n",
      "44/44 [==============================] - 0s 9ms/step - loss: 1742.6182 - R2_coeff_determination: 0.6090 - val_loss: 1815.1349 - val_R2_coeff_determination: 0.6062\n",
      "Epoch 152/500\n",
      "44/44 [==============================] - 0s 9ms/step - loss: 1517.9197 - R2_coeff_determination: 0.6264 - val_loss: 1860.4276 - val_R2_coeff_determination: 0.5945\n",
      "Epoch 153/500\n",
      "44/44 [==============================] - 0s 9ms/step - loss: 1583.5784 - R2_coeff_determination: 0.6242 - val_loss: 1830.9115 - val_R2_coeff_determination: 0.6026\n",
      "Epoch 154/500\n",
      "44/44 [==============================] - 0s 9ms/step - loss: 1643.8894 - R2_coeff_determination: 0.6133 - val_loss: 1829.4022 - val_R2_coeff_determination: 0.6033\n",
      "Epoch 155/500\n",
      "44/44 [==============================] - 0s 10ms/step - loss: 1744.1201 - R2_coeff_determination: 0.6183 - val_loss: 1820.8517 - val_R2_coeff_determination: 0.6063\n",
      "Epoch 156/500\n",
      "44/44 [==============================] - 0s 10ms/step - loss: 1890.1884 - R2_coeff_determination: 0.6321 - val_loss: 1827.2303 - val_R2_coeff_determination: 0.6026\n",
      "Epoch 157/500\n",
      "44/44 [==============================] - 0s 10ms/step - loss: 1726.2206 - R2_coeff_determination: 0.6145 - val_loss: 1840.6760 - val_R2_coeff_determination: 0.6007\n",
      "Epoch 158/500\n",
      "44/44 [==============================] - 0s 9ms/step - loss: 1701.8949 - R2_coeff_determination: 0.6306 - val_loss: 1821.8910 - val_R2_coeff_determination: 0.6057\n",
      "Epoch 159/500\n",
      "44/44 [==============================] - 0s 9ms/step - loss: 1579.9840 - R2_coeff_determination: 0.6329 - val_loss: 1832.5900 - val_R2_coeff_determination: 0.6019\n",
      "Epoch 160/500\n",
      "44/44 [==============================] - 0s 10ms/step - loss: 1831.6839 - R2_coeff_determination: 0.6170 - val_loss: 1831.6057 - val_R2_coeff_determination: 0.6028\n",
      "Epoch 161/500\n",
      "44/44 [==============================] - 0s 10ms/step - loss: 1761.1386 - R2_coeff_determination: 0.6342 - val_loss: 1815.1367 - val_R2_coeff_determination: 0.6067\n",
      "Epoch 162/500\n",
      "44/44 [==============================] - 0s 10ms/step - loss: 1783.8919 - R2_coeff_determination: 0.6165 - val_loss: 1819.1615 - val_R2_coeff_determination: 0.6049\n",
      "Epoch 163/500\n",
      "44/44 [==============================] - 0s 9ms/step - loss: 1919.1812 - R2_coeff_determination: 0.6222 - val_loss: 1828.3301 - val_R2_coeff_determination: 0.6029\n",
      "Epoch 164/500\n",
      "44/44 [==============================] - 0s 9ms/step - loss: 1695.3926 - R2_coeff_determination: 0.6322 - val_loss: 1825.3762 - val_R2_coeff_determination: 0.6050\n",
      "Epoch 165/500\n",
      "44/44 [==============================] - 0s 9ms/step - loss: 1675.1601 - R2_coeff_determination: 0.6272 - val_loss: 1819.7223 - val_R2_coeff_determination: 0.6047\n",
      "Epoch 166/500\n",
      "44/44 [==============================] - 0s 10ms/step - loss: 1711.1998 - R2_coeff_determination: 0.6373 - val_loss: 1837.7625 - val_R2_coeff_determination: 0.6010\n",
      "Epoch 167/500\n",
      "44/44 [==============================] - 0s 9ms/step - loss: 1772.1746 - R2_coeff_determination: 0.6175 - val_loss: 1818.8264 - val_R2_coeff_determination: 0.6060\n",
      "Epoch 168/500\n",
      "44/44 [==============================] - 0s 10ms/step - loss: 1654.2978 - R2_coeff_determination: 0.6225 - val_loss: 1837.1448 - val_R2_coeff_determination: 0.6026\n",
      "Epoch 169/500\n",
      "44/44 [==============================] - 0s 11ms/step - loss: 1800.5929 - R2_coeff_determination: 0.6054 - val_loss: 1818.0491 - val_R2_coeff_determination: 0.6062\n",
      "Epoch 170/500\n",
      "44/44 [==============================] - 0s 10ms/step - loss: 1613.4828 - R2_coeff_determination: 0.6393 - val_loss: 1818.5488 - val_R2_coeff_determination: 0.6052\n",
      "Epoch 171/500\n",
      "44/44 [==============================] - 0s 10ms/step - loss: 1864.5119 - R2_coeff_determination: 0.6294 - val_loss: 1841.9495 - val_R2_coeff_determination: 0.6012\n",
      "Epoch 172/500\n",
      "44/44 [==============================] - 0s 10ms/step - loss: 1698.1436 - R2_coeff_determination: 0.6209 - val_loss: 1830.0646 - val_R2_coeff_determination: 0.6021\n",
      "Epoch 173/500\n",
      "44/44 [==============================] - 0s 10ms/step - loss: 1583.2483 - R2_coeff_determination: 0.6464 - val_loss: 1819.4902 - val_R2_coeff_determination: 0.6048\n",
      "Epoch 174/500\n",
      "44/44 [==============================] - 0s 10ms/step - loss: 1594.1136 - R2_coeff_determination: 0.6120 - val_loss: 1836.8577 - val_R2_coeff_determination: 0.5996\n",
      "Epoch 175/500\n",
      "44/44 [==============================] - 0s 10ms/step - loss: 1582.1876 - R2_coeff_determination: 0.6230 - val_loss: 1834.8810 - val_R2_coeff_determination: 0.6017\n",
      "Epoch 176/500\n",
      "44/44 [==============================] - 0s 10ms/step - loss: 1560.6862 - R2_coeff_determination: 0.6454 - val_loss: 1828.4199 - val_R2_coeff_determination: 0.6038\n",
      "Epoch 177/500\n",
      "44/44 [==============================] - 0s 10ms/step - loss: 1982.8006 - R2_coeff_determination: 0.6110 - val_loss: 1837.0399 - val_R2_coeff_determination: 0.6022\n",
      "Epoch 178/500\n",
      "44/44 [==============================] - 0s 10ms/step - loss: 1841.6081 - R2_coeff_determination: 0.6185 - val_loss: 1832.0558 - val_R2_coeff_determination: 0.6046\n",
      "Epoch 179/500\n",
      "44/44 [==============================] - 0s 10ms/step - loss: 1632.4247 - R2_coeff_determination: 0.6263 - val_loss: 1839.2927 - val_R2_coeff_determination: 0.6004\n",
      "Epoch 180/500\n",
      "44/44 [==============================] - 0s 10ms/step - loss: 1650.4338 - R2_coeff_determination: 0.6482 - val_loss: 1816.8965 - val_R2_coeff_determination: 0.6071\n",
      "Epoch 181/500\n",
      "44/44 [==============================] - 0s 9ms/step - loss: 1661.3475 - R2_coeff_determination: 0.6261 - val_loss: 1835.7250 - val_R2_coeff_determination: 0.6004\n",
      "Epoch 182/500\n",
      "44/44 [==============================] - 0s 10ms/step - loss: 1754.9103 - R2_coeff_determination: 0.6140 - val_loss: 1836.7275 - val_R2_coeff_determination: 0.5999\n",
      "Epoch 183/500\n",
      "44/44 [==============================] - 0s 9ms/step - loss: 1728.7911 - R2_coeff_determination: 0.6227 - val_loss: 1877.9456 - val_R2_coeff_determination: 0.5909\n",
      "Epoch 184/500\n"
     ]
    },
    {
     "name": "stdout",
     "output_type": "stream",
     "text": [
      "44/44 [==============================] - 0s 10ms/step - loss: 1696.9585 - R2_coeff_determination: 0.6289 - val_loss: 1858.6439 - val_R2_coeff_determination: 0.5955\n",
      "Epoch 185/500\n",
      "44/44 [==============================] - 0s 10ms/step - loss: 1743.7877 - R2_coeff_determination: 0.6086 - val_loss: 1839.7955 - val_R2_coeff_determination: 0.6013\n",
      "Epoch 186/500\n",
      "44/44 [==============================] - 0s 10ms/step - loss: 1636.8335 - R2_coeff_determination: 0.6342 - val_loss: 1837.1230 - val_R2_coeff_determination: 0.6005\n",
      "Epoch 187/500\n",
      "44/44 [==============================] - 0s 10ms/step - loss: 1551.7424 - R2_coeff_determination: 0.6357 - val_loss: 1842.8417 - val_R2_coeff_determination: 0.5986\n",
      "Epoch 188/500\n",
      "44/44 [==============================] - 0s 11ms/step - loss: 1687.0228 - R2_coeff_determination: 0.6138 - val_loss: 1897.8557 - val_R2_coeff_determination: 0.5913\n",
      "Epoch 189/500\n",
      "44/44 [==============================] - 0s 10ms/step - loss: 1620.6950 - R2_coeff_determination: 0.6251 - val_loss: 1844.3927 - val_R2_coeff_determination: 0.5983\n",
      "Epoch 190/500\n",
      "44/44 [==============================] - 0s 10ms/step - loss: 1682.9581 - R2_coeff_determination: 0.6274 - val_loss: 1833.9872 - val_R2_coeff_determination: 0.6028\n",
      "Epoch 191/500\n",
      "44/44 [==============================] - 0s 11ms/step - loss: 1585.3118 - R2_coeff_determination: 0.6163 - val_loss: 1840.9872 - val_R2_coeff_determination: 0.6011\n",
      "Epoch 192/500\n",
      "44/44 [==============================] - 0s 10ms/step - loss: 1753.0965 - R2_coeff_determination: 0.6154 - val_loss: 1843.7172 - val_R2_coeff_determination: 0.6007\n",
      "Epoch 193/500\n",
      "44/44 [==============================] - 0s 9ms/step - loss: 1762.5999 - R2_coeff_determination: 0.6115 - val_loss: 1837.4600 - val_R2_coeff_determination: 0.6015\n",
      "Epoch 194/500\n",
      "44/44 [==============================] - 0s 9ms/step - loss: 1901.9651 - R2_coeff_determination: 0.6081 - val_loss: 1823.5380 - val_R2_coeff_determination: 0.6045\n",
      "Epoch 195/500\n",
      "44/44 [==============================] - 0s 10ms/step - loss: 1651.2777 - R2_coeff_determination: 0.6310 - val_loss: 1823.6012 - val_R2_coeff_determination: 0.6037\n",
      "Epoch 196/500\n",
      "44/44 [==============================] - 0s 9ms/step - loss: 1771.1967 - R2_coeff_determination: 0.6212 - val_loss: 1833.1506 - val_R2_coeff_determination: 0.6021\n",
      "Epoch 197/500\n",
      "44/44 [==============================] - 0s 10ms/step - loss: 1694.9322 - R2_coeff_determination: 0.6256 - val_loss: 1836.0408 - val_R2_coeff_determination: 0.6020\n",
      "Epoch 198/500\n",
      "44/44 [==============================] - 0s 10ms/step - loss: 1705.3757 - R2_coeff_determination: 0.6190 - val_loss: 1878.5073 - val_R2_coeff_determination: 0.5935\n",
      "Epoch 199/500\n",
      "44/44 [==============================] - 0s 9ms/step - loss: 1653.6578 - R2_coeff_determination: 0.6256 - val_loss: 1818.5001 - val_R2_coeff_determination: 0.6051\n",
      "Epoch 200/500\n",
      "44/44 [==============================] - 0s 9ms/step - loss: 1648.3951 - R2_coeff_determination: 0.6423 - val_loss: 1828.5992 - val_R2_coeff_determination: 0.6037\n",
      "Epoch 201/500\n",
      "44/44 [==============================] - 0s 10ms/step - loss: 1531.2184 - R2_coeff_determination: 0.6269 - val_loss: 1860.1504 - val_R2_coeff_determination: 0.5978\n",
      "Epoch 202/500\n",
      "44/44 [==============================] - 0s 10ms/step - loss: 1595.4250 - R2_coeff_determination: 0.6198 - val_loss: 1838.1652 - val_R2_coeff_determination: 0.6006\n",
      "Epoch 203/500\n",
      "44/44 [==============================] - 0s 9ms/step - loss: 1712.1411 - R2_coeff_determination: 0.6423 - val_loss: 1839.4939 - val_R2_coeff_determination: 0.5999\n",
      "Epoch 204/500\n",
      "44/44 [==============================] - 0s 10ms/step - loss: 1726.6708 - R2_coeff_determination: 0.6362 - val_loss: 1841.6423 - val_R2_coeff_determination: 0.6020\n",
      "Epoch 205/500\n",
      "44/44 [==============================] - 0s 10ms/step - loss: 1723.9795 - R2_coeff_determination: 0.6150 - val_loss: 1830.6646 - val_R2_coeff_determination: 0.6025\n",
      "Epoch 206/500\n",
      "44/44 [==============================] - 0s 9ms/step - loss: 1569.9869 - R2_coeff_determination: 0.6307 - val_loss: 1843.3167 - val_R2_coeff_determination: 0.5991\n",
      "Epoch 207/500\n",
      "44/44 [==============================] - 0s 9ms/step - loss: 1602.2220 - R2_coeff_determination: 0.6439 - val_loss: 1822.4789 - val_R2_coeff_determination: 0.6059\n",
      "Epoch 208/500\n",
      "44/44 [==============================] - 0s 10ms/step - loss: 1575.2961 - R2_coeff_determination: 0.6335 - val_loss: 1835.7241 - val_R2_coeff_determination: 0.6009\n",
      "Epoch 209/500\n",
      "44/44 [==============================] - 0s 9ms/step - loss: 1664.9005 - R2_coeff_determination: 0.6376 - val_loss: 1849.8461 - val_R2_coeff_determination: 0.5990\n",
      "Epoch 210/500\n",
      "44/44 [==============================] - 0s 9ms/step - loss: 1610.0120 - R2_coeff_determination: 0.6317 - val_loss: 1826.0144 - val_R2_coeff_determination: 0.6044\n",
      "Epoch 211/500\n",
      "44/44 [==============================] - 0s 10ms/step - loss: 1644.4507 - R2_coeff_determination: 0.6248 - val_loss: 1834.8734 - val_R2_coeff_determination: 0.6018\n",
      "Epoch 212/500\n",
      "44/44 [==============================] - 0s 10ms/step - loss: 1575.8802 - R2_coeff_determination: 0.6276 - val_loss: 1827.9390 - val_R2_coeff_determination: 0.6034\n",
      "Epoch 213/500\n",
      "44/44 [==============================] - 0s 10ms/step - loss: 1906.9777 - R2_coeff_determination: 0.6238 - val_loss: 1855.4758 - val_R2_coeff_determination: 0.5990\n",
      "Epoch 214/500\n",
      "44/44 [==============================] - 0s 9ms/step - loss: 1774.1365 - R2_coeff_determination: 0.6313 - val_loss: 1832.4478 - val_R2_coeff_determination: 0.6028\n",
      "Epoch 215/500\n",
      "44/44 [==============================] - 0s 10ms/step - loss: 1712.4092 - R2_coeff_determination: 0.6028 - val_loss: 1836.5643 - val_R2_coeff_determination: 0.6035\n",
      "Epoch 216/500\n",
      "44/44 [==============================] - 0s 10ms/step - loss: 1555.5630 - R2_coeff_determination: 0.6326 - val_loss: 1845.9249 - val_R2_coeff_determination: 0.5977\n",
      "Epoch 217/500\n",
      "44/44 [==============================] - 0s 10ms/step - loss: 1567.3554 - R2_coeff_determination: 0.6375 - val_loss: 1843.0851 - val_R2_coeff_determination: 0.6005\n",
      "Epoch 218/500\n",
      "44/44 [==============================] - 0s 10ms/step - loss: 1747.2664 - R2_coeff_determination: 0.6183 - val_loss: 1841.3672 - val_R2_coeff_determination: 0.6010\n",
      "Epoch 219/500\n",
      "44/44 [==============================] - 0s 10ms/step - loss: 1612.9428 - R2_coeff_determination: 0.6580 - val_loss: 1840.9080 - val_R2_coeff_determination: 0.6026\n",
      "Epoch 220/500\n",
      "44/44 [==============================] - 0s 10ms/step - loss: 1586.4520 - R2_coeff_determination: 0.6136 - val_loss: 1832.9031 - val_R2_coeff_determination: 0.6016\n",
      "Epoch 221/500\n",
      "44/44 [==============================] - 0s 10ms/step - loss: 1718.8825 - R2_coeff_determination: 0.6416 - val_loss: 1890.7653 - val_R2_coeff_determination: 0.5924\n",
      "Epoch 222/500\n",
      "44/44 [==============================] - 0s 9ms/step - loss: 1642.6493 - R2_coeff_determination: 0.6141 - val_loss: 1869.2478 - val_R2_coeff_determination: 0.5921\n",
      "Epoch 223/500\n",
      "44/44 [==============================] - 0s 10ms/step - loss: 1707.2723 - R2_coeff_determination: 0.6453 - val_loss: 1816.5735 - val_R2_coeff_determination: 0.6064\n",
      "Epoch 224/500\n",
      "44/44 [==============================] - 0s 9ms/step - loss: 1757.6565 - R2_coeff_determination: 0.6248 - val_loss: 1853.7919 - val_R2_coeff_determination: 0.6001\n",
      "Epoch 225/500\n",
      "44/44 [==============================] - 0s 10ms/step - loss: 1970.6078 - R2_coeff_determination: 0.5976 - val_loss: 1850.1038 - val_R2_coeff_determination: 0.5995\n",
      "Epoch 226/500\n",
      "44/44 [==============================] - 0s 10ms/step - loss: 1758.5201 - R2_coeff_determination: 0.5994 - val_loss: 1844.8416 - val_R2_coeff_determination: 0.5997\n",
      "Epoch 227/500\n",
      "44/44 [==============================] - 0s 10ms/step - loss: 1731.9445 - R2_coeff_determination: 0.6217 - val_loss: 1828.8671 - val_R2_coeff_determination: 0.6041\n",
      "Epoch 228/500\n",
      "44/44 [==============================] - 0s 10ms/step - loss: 1678.3214 - R2_coeff_determination: 0.6175 - val_loss: 1849.0674 - val_R2_coeff_determination: 0.6008\n",
      "Epoch 229/500\n",
      "44/44 [==============================] - 0s 10ms/step - loss: 1787.9017 - R2_coeff_determination: 0.6184 - val_loss: 1831.3184 - val_R2_coeff_determination: 0.6050\n",
      "Epoch 230/500\n",
      "44/44 [==============================] - 0s 10ms/step - loss: 1760.4945 - R2_coeff_determination: 0.6189 - val_loss: 1867.2373 - val_R2_coeff_determination: 0.5931\n",
      "Epoch 231/500\n",
      "44/44 [==============================] - 0s 10ms/step - loss: 1853.6598 - R2_coeff_determination: 0.6155 - val_loss: 1835.7469 - val_R2_coeff_determination: 0.6005\n",
      "Epoch 232/500\n",
      "44/44 [==============================] - 0s 9ms/step - loss: 1678.6677 - R2_coeff_determination: 0.6249 - val_loss: 1843.5626 - val_R2_coeff_determination: 0.5997\n",
      "Epoch 233/500\n",
      "44/44 [==============================] - 0s 9ms/step - loss: 1755.6700 - R2_coeff_determination: 0.6409 - val_loss: 1828.5974 - val_R2_coeff_determination: 0.6031\n",
      "Epoch 234/500\n",
      "44/44 [==============================] - 0s 9ms/step - loss: 1765.9774 - R2_coeff_determination: 0.6169 - val_loss: 1853.2201 - val_R2_coeff_determination: 0.5995\n",
      "Epoch 235/500\n",
      "44/44 [==============================] - 0s 10ms/step - loss: 1621.3683 - R2_coeff_determination: 0.6139 - val_loss: 1860.7137 - val_R2_coeff_determination: 0.5951\n",
      "Epoch 236/500\n",
      "44/44 [==============================] - 0s 10ms/step - loss: 1700.8761 - R2_coeff_determination: 0.6282 - val_loss: 1838.1167 - val_R2_coeff_determination: 0.6012\n",
      "Epoch 237/500\n",
      "44/44 [==============================] - 0s 9ms/step - loss: 1607.5409 - R2_coeff_determination: 0.6282 - val_loss: 1851.1455 - val_R2_coeff_determination: 0.6000\n",
      "Epoch 238/500\n",
      "44/44 [==============================] - 0s 10ms/step - loss: 1578.5692 - R2_coeff_determination: 0.6265 - val_loss: 1838.2357 - val_R2_coeff_determination: 0.6023\n",
      "Restoring model weights from the end of the best epoch.\n",
      "Epoch 00238: early stopping\n",
      "mean squared error and R2 score between predictions and actual values on testset are respectively 1547.27 and 0.6685 \n"
     ]
    }
   ],
   "source": [
    "from keras.models import Sequential\n",
    "from keras.layers import Dense, Dropout\n",
    "from keras.wrappers.scikit_learn import KerasClassifier\n",
    "from keras.utils import np_utils\n",
    "from keras.callbacks import Callback, ModelCheckpoint, TensorBoard, LearningRateScheduler, EarlyStopping\n",
    "from sklearn.model_selection import cross_val_score\n",
    "from sklearn.model_selection import KFold\n",
    "from sklearn.preprocessing import LabelEncoder\n",
    "from sklearn.pipeline import Pipeline\n",
    "from keras import backend as K\n",
    "\n",
    "\n",
    "def R2_coeff_determination(y_true, y_pred):\n",
    "    SS_res =  K.sum(K.square( y_true-y_pred)) \n",
    "    SS_tot = K.sum(K.square( y_true - K.mean(y_true))) \n",
    "    return ( 1 - SS_res/(SS_tot + K.epsilon()))\n",
    "\n",
    "\n",
    "model_nn = Sequential()\n",
    "model_nn.add(Dense(500, activation='relu', input_shape=(x_train_scaled.shape[1],)))\n",
    "model_nn.add(Dense(300, activation='relu'))\n",
    "model_nn.add(Dense(200, activation='relu'))\n",
    "model_nn.add(Dense(50, activation='relu'))\n",
    "model_nn.add(Dense(1))\n",
    "\n",
    "early_stopping = EarlyStopping(monitor='val_loss', mode='min', verbose=1,\\\n",
    "                               patience=200, restore_best_weights=True)\n",
    "\n",
    "for layer in model_nn.layers:\n",
    "    print(\"Input shape: \"+str(layer.input_shape)+\". Output shape: \"+str(layer.output_shape))\n",
    "model_nn.compile(loss='mean_squared_error', optimizer='adam', metrics = [R2_coeff_determination])\n",
    "history =model_nn.fit(x_train_scaled, y_train, validation_data=(x_val_scaled, y_val),\n",
    "                epochs=500,\n",
    "                batch_size=1000,\n",
    "                shuffle=True,\n",
    "                verbose=1, callbacks = [early_stopping]).history\n",
    "\n",
    "predictions_test_nn = model_nn.predict(x_test_scaled).flatten()\n",
    "R2_score_nn = R2_coeff_determination(K.constant(y_test),predictions_test_nn).numpy()\n",
    "print(\"mean squared error and R2 score between predictions and actual values on testset are respectively {:.2f}\\\n",
    " and {:.4f} \".format(((y_test - predictions_test_nn)**2).mean(), R2_score_nn))"
   ]
  },
  {
   "cell_type": "markdown",
   "metadata": {},
   "source": [
    "### So R^2 value on the testset is around 0.66. There is no much overfitting but there is a siginifcant underfitting that I couldn't combat using a deeper network. Probably because of there is only 3 features and it could be that they don't fully relate to the label we want to predict. Intuitevly the usage of the user over 30 days can be influenced by many things."
   ]
  },
  {
   "cell_type": "markdown",
   "metadata": {},
   "source": [
    "## Just to try out different regressors fast using sklearn to see if they can do better, plus using cross-validaiton"
   ]
  },
  {
   "cell_type": "code",
   "execution_count": 26,
   "metadata": {},
   "outputs": [
    {
     "name": "stdout",
     "output_type": "stream",
     "text": [
      "LinearRegression()\n",
      "Ridge()\n",
      "HuberRegressor()\n"
     ]
    },
    {
     "name": "stderr",
     "output_type": "stream",
     "text": [
      "/Users/abdullahsalama/anaconda3/lib/python3.8/site-packages/sklearn/linear_model/_huber.py:296: ConvergenceWarning: lbfgs failed to converge (status=1):\n",
      "STOP: TOTAL NO. of ITERATIONS REACHED LIMIT.\n",
      "\n",
      "Increase the number of iterations (max_iter) or scale the data as shown in:\n",
      "    https://scikit-learn.org/stable/modules/preprocessing.html\n",
      "  self.n_iter_ = _check_optimize_result(\"lbfgs\", opt_res, self.max_iter)\n",
      "/Users/abdullahsalama/anaconda3/lib/python3.8/site-packages/sklearn/linear_model/_huber.py:296: ConvergenceWarning: lbfgs failed to converge (status=1):\n",
      "STOP: TOTAL NO. of ITERATIONS REACHED LIMIT.\n",
      "\n",
      "Increase the number of iterations (max_iter) or scale the data as shown in:\n",
      "    https://scikit-learn.org/stable/modules/preprocessing.html\n",
      "  self.n_iter_ = _check_optimize_result(\"lbfgs\", opt_res, self.max_iter)\n",
      "/Users/abdullahsalama/anaconda3/lib/python3.8/site-packages/sklearn/linear_model/_huber.py:296: ConvergenceWarning: lbfgs failed to converge (status=1):\n",
      "STOP: TOTAL NO. of ITERATIONS REACHED LIMIT.\n",
      "\n",
      "Increase the number of iterations (max_iter) or scale the data as shown in:\n",
      "    https://scikit-learn.org/stable/modules/preprocessing.html\n",
      "  self.n_iter_ = _check_optimize_result(\"lbfgs\", opt_res, self.max_iter)\n",
      "/Users/abdullahsalama/anaconda3/lib/python3.8/site-packages/sklearn/linear_model/_huber.py:296: ConvergenceWarning: lbfgs failed to converge (status=1):\n",
      "STOP: TOTAL NO. of ITERATIONS REACHED LIMIT.\n",
      "\n",
      "Increase the number of iterations (max_iter) or scale the data as shown in:\n",
      "    https://scikit-learn.org/stable/modules/preprocessing.html\n",
      "  self.n_iter_ = _check_optimize_result(\"lbfgs\", opt_res, self.max_iter)\n",
      "/Users/abdullahsalama/anaconda3/lib/python3.8/site-packages/sklearn/linear_model/_huber.py:296: ConvergenceWarning: lbfgs failed to converge (status=1):\n",
      "STOP: TOTAL NO. of ITERATIONS REACHED LIMIT.\n",
      "\n",
      "Increase the number of iterations (max_iter) or scale the data as shown in:\n",
      "    https://scikit-learn.org/stable/modules/preprocessing.html\n",
      "  self.n_iter_ = _check_optimize_result(\"lbfgs\", opt_res, self.max_iter)\n",
      "/Users/abdullahsalama/anaconda3/lib/python3.8/site-packages/sklearn/linear_model/_huber.py:296: ConvergenceWarning: lbfgs failed to converge (status=1):\n",
      "STOP: TOTAL NO. of ITERATIONS REACHED LIMIT.\n",
      "\n",
      "Increase the number of iterations (max_iter) or scale the data as shown in:\n",
      "    https://scikit-learn.org/stable/modules/preprocessing.html\n",
      "  self.n_iter_ = _check_optimize_result(\"lbfgs\", opt_res, self.max_iter)\n",
      "/Users/abdullahsalama/anaconda3/lib/python3.8/site-packages/sklearn/linear_model/_huber.py:296: ConvergenceWarning: lbfgs failed to converge (status=1):\n",
      "STOP: TOTAL NO. of ITERATIONS REACHED LIMIT.\n",
      "\n",
      "Increase the number of iterations (max_iter) or scale the data as shown in:\n",
      "    https://scikit-learn.org/stable/modules/preprocessing.html\n",
      "  self.n_iter_ = _check_optimize_result(\"lbfgs\", opt_res, self.max_iter)\n",
      "/Users/abdullahsalama/anaconda3/lib/python3.8/site-packages/sklearn/linear_model/_huber.py:296: ConvergenceWarning: lbfgs failed to converge (status=1):\n",
      "STOP: TOTAL NO. of ITERATIONS REACHED LIMIT.\n",
      "\n",
      "Increase the number of iterations (max_iter) or scale the data as shown in:\n",
      "    https://scikit-learn.org/stable/modules/preprocessing.html\n",
      "  self.n_iter_ = _check_optimize_result(\"lbfgs\", opt_res, self.max_iter)\n",
      "/Users/abdullahsalama/anaconda3/lib/python3.8/site-packages/sklearn/linear_model/_huber.py:296: ConvergenceWarning: lbfgs failed to converge (status=1):\n",
      "STOP: TOTAL NO. of ITERATIONS REACHED LIMIT.\n",
      "\n",
      "Increase the number of iterations (max_iter) or scale the data as shown in:\n",
      "    https://scikit-learn.org/stable/modules/preprocessing.html\n",
      "  self.n_iter_ = _check_optimize_result(\"lbfgs\", opt_res, self.max_iter)\n",
      "/Users/abdullahsalama/anaconda3/lib/python3.8/site-packages/sklearn/linear_model/_huber.py:296: ConvergenceWarning: lbfgs failed to converge (status=1):\n",
      "STOP: TOTAL NO. of ITERATIONS REACHED LIMIT.\n",
      "\n",
      "Increase the number of iterations (max_iter) or scale the data as shown in:\n",
      "    https://scikit-learn.org/stable/modules/preprocessing.html\n",
      "  self.n_iter_ = _check_optimize_result(\"lbfgs\", opt_res, self.max_iter)\n"
     ]
    },
    {
     "name": "stdout",
     "output_type": "stream",
     "text": [
      "ElasticNetCV()\n",
      "DecisionTreeRegressor()\n",
      "ExtraTreesRegressor()\n",
      "GradientBoostingRegressor()\n",
      "RandomForestRegressor()\n",
      "BaggingRegressor()\n",
      "GradientBoostingRegressor()\n",
      "mean squared error and R2 score between predictions and actual values on testset are respectively 1529.76 and 0.6731 \n"
     ]
    }
   ],
   "source": [
    "from sklearn.tree import DecisionTreeRegressor\n",
    "from sklearn.linear_model import LinearRegression, Ridge, HuberRegressor, ElasticNetCV\n",
    "from sklearn.ensemble import BaggingRegressor, ExtraTreesRegressor, GradientBoostingRegressor, RandomForestRegressor\n",
    "from sklearn.neural_network import MLPRegressor\n",
    "from sklearn.ensemble import GradientBoostingRegressor\n",
    "\n",
    "import warnings\n",
    "warnings.filterwarnings(\"ignore\", category=FutureWarning)\n",
    "\n",
    "models = [LinearRegression(),\n",
    "          Ridge(),\n",
    "          HuberRegressor(),\n",
    "          ElasticNetCV(),\n",
    "          DecisionTreeRegressor(), \n",
    "          ExtraTreesRegressor(),\n",
    "          GradientBoostingRegressor(),\n",
    "          RandomForestRegressor(),\n",
    "          BaggingRegressor(),\n",
    "          GradientBoostingRegressor()]\n",
    "\n",
    "models_scores = pd.DataFrame(columns = ['Model', 'Score'])\n",
    "\n",
    "def test_algorithms(model):\n",
    "    kfold = model_selection.KFold(n_splits=10)\n",
    "    predicted = model_selection.cross_val_score(model, x_train_scaled, y_train, cv=kfold, scoring='neg_mean_squared_error')\n",
    "    score=abs(predicted.mean())\n",
    "    return score\n",
    "\n",
    "best_score=100000\n",
    "best_model_sk=[]\n",
    "for model in models:\n",
    "    print(model)\n",
    "    score=test_algorithms(model)\n",
    "    models_scores  = models_scores.append({'Model': model, 'Score': score}, ignore_index = True)\n",
    "    if abs(score)<best_score:\n",
    "        best_score=abs(score)\n",
    "        best_model_sk=model\n",
    "        \n",
    "best_model_sk.fit(x_train_scaled, y_train)\n",
    "predictions_test_sk = best_model_sk.predict(x_train_scaled).flatten()\n",
    "R2_score_sk = R2_coeff_determination(K.constant(y_train),predictions_test_sk).numpy()\n",
    "print(\"mean squared error and R2 score between predictions and actual values on testset are respectively {:.2f}\\\n",
    " and {:.4f} \".format(((y_train - predictions_test_sk)**2).mean(), R2_score_sk))"
   ]
  },
  {
   "cell_type": "markdown",
   "metadata": {},
   "source": [
    "### Finally, if the R2 score of the Neural Network (NN) model trained is better than the other regressor models, then save the NN model, otherwise save the best model."
   ]
  },
  {
   "cell_type": "code",
   "execution_count": 29,
   "metadata": {},
   "outputs": [],
   "source": [
    "if R2_score_nn > R2_score_sk:\n",
    "    pickle.dump(model_nn, open('trained_model.pkl', 'wb'))\n",
    "else:\n",
    "    pickle.dump(best_model_sk, open('trained_model.pkl', 'wb'))\n",
    "    "
   ]
  },
  {
   "cell_type": "code",
   "execution_count": null,
   "metadata": {},
   "outputs": [],
   "source": []
  }
 ],
 "metadata": {
  "kernelspec": {
   "display_name": "Python 3",
   "language": "python",
   "name": "python3"
  },
  "language_info": {
   "codemirror_mode": {
    "name": "ipython",
    "version": 3
   },
   "file_extension": ".py",
   "mimetype": "text/x-python",
   "name": "python",
   "nbconvert_exporter": "python",
   "pygments_lexer": "ipython3",
   "version": "3.8.8"
  }
 },
 "nbformat": 4,
 "nbformat_minor": 2
}
